{
 "cells": [
  {
   "cell_type": "markdown",
   "metadata": {},
   "source": [
    "Endert Guerrero IPE 100108\n",
    "\n",
    "Módulo: 3 \n",
    "\n",
    "Asignatura: Procesamiento de datos \n",
    "\n",
    "RA: Ordena conjuntos de datos aplicando técnicas de procesamiento, para prevenir errores posteriores en el proceso de modelado. \n",
    "\n",
    "Docente Online: Gonzalo Esteban Cárdenas Rubio \n",
    "\n"
   ]
  },
  {
   "cell_type": "markdown",
   "metadata": {},
   "source": [
    "# Librerias"
   ]
  },
  {
   "cell_type": "code",
   "execution_count": 79,
   "metadata": {},
   "outputs": [],
   "source": [
    "import pandas as pd\n",
    "import numpy as np"
   ]
  },
  {
   "cell_type": "markdown",
   "metadata": {},
   "source": [
    "# DataFrame"
   ]
  },
  {
   "cell_type": "code",
   "execution_count": 80,
   "metadata": {},
   "outputs": [
    {
     "data": {
      "text/html": [
       "<div>\n",
       "<style scoped>\n",
       "    .dataframe tbody tr th:only-of-type {\n",
       "        vertical-align: middle;\n",
       "    }\n",
       "\n",
       "    .dataframe tbody tr th {\n",
       "        vertical-align: top;\n",
       "    }\n",
       "\n",
       "    .dataframe thead th {\n",
       "        text-align: right;\n",
       "    }\n",
       "</style>\n",
       "<table border=\"1\" class=\"dataframe\">\n",
       "  <thead>\n",
       "    <tr style=\"text-align: right;\">\n",
       "      <th></th>\n",
       "      <th>Clientes</th>\n",
       "      <th>Ventas</th>\n",
       "    </tr>\n",
       "  </thead>\n",
       "  <tbody>\n",
       "    <tr>\n",
       "      <th>0</th>\n",
       "      <td>JUan</td>\n",
       "      <td>100.0</td>\n",
       "    </tr>\n",
       "    <tr>\n",
       "      <th>1</th>\n",
       "      <td>camila</td>\n",
       "      <td>200.0</td>\n",
       "    </tr>\n",
       "    <tr>\n",
       "      <th>2</th>\n",
       "      <td>DanIel</td>\n",
       "      <td>110,0</td>\n",
       "    </tr>\n",
       "    <tr>\n",
       "      <th>3</th>\n",
       "      <td>Luis</td>\n",
       "      <td>90.0</td>\n",
       "    </tr>\n",
       "    <tr>\n",
       "      <th>4</th>\n",
       "      <td>Juan</td>\n",
       "      <td>150.0</td>\n",
       "    </tr>\n",
       "    <tr>\n",
       "      <th>5</th>\n",
       "      <td>Ana</td>\n",
       "      <td>80.0</td>\n",
       "    </tr>\n",
       "    <tr>\n",
       "      <th>6</th>\n",
       "      <td>Camila</td>\n",
       "      <td>70.0</td>\n",
       "    </tr>\n",
       "    <tr>\n",
       "      <th>7</th>\n",
       "      <td>Ana</td>\n",
       "      <td>100.0</td>\n",
       "    </tr>\n",
       "    <tr>\n",
       "      <th>8</th>\n",
       "      <td>LuiS</td>\n",
       "      <td>110.0</td>\n",
       "    </tr>\n",
       "    <tr>\n",
       "      <th>9</th>\n",
       "      <td>Ana</td>\n",
       "      <td>90.0</td>\n",
       "    </tr>\n",
       "    <tr>\n",
       "      <th>10</th>\n",
       "      <td>Juan</td>\n",
       "      <td>100,00</td>\n",
       "    </tr>\n",
       "  </tbody>\n",
       "</table>\n",
       "</div>"
      ],
      "text/plain": [
       "   Clientes  Ventas\n",
       "0      JUan   100.0\n",
       "1    camila   200.0\n",
       "2    DanIel   110,0\n",
       "3      Luis    90.0\n",
       "4      Juan   150.0\n",
       "5       Ana    80.0\n",
       "6    Camila    70.0\n",
       "7       Ana   100.0\n",
       "8      LuiS   110.0\n",
       "9       Ana    90.0\n",
       "10     Juan  100,00"
      ]
     },
     "execution_count": 80,
     "metadata": {},
     "output_type": "execute_result"
    }
   ],
   "source": [
    "Ventas_Clientes_2021 = pd.Series([100.0,200.0,\"110,0\",90.0,150.0,80.0,70.0,100.0,110.0,90.0,\"100,00\"])\n",
    "Clientes_2021 = pd.Series ([\"JUan\",\"camila\",\"DanIel\",\"Luis\",\"Juan\",\"Ana\",\"Camila\",\"Ana\",\"LuiS\",\"Ana\",\"Juan\"])\n",
    "df1 = pd.DataFrame(Ventas_Clientes_2021, columns= [\"Ventas\"])\n",
    "df2 = pd.DataFrame(Clientes_2021, columns= [\"Clientes\"])\n",
    "df3 = pd.concat([df2,df1], axis=1)\n",
    "df3"
   ]
  },
  {
   "cell_type": "markdown",
   "metadata": {},
   "source": [
    "# Errores en el DataFrame\n",
    "\n",
    "DataFrame \"Ventas_Clientes_2021\"\n",
    "\n",
    "    En el indice 2 del DataFrame \"Ventas_Clientes_2021\" se puede encontrar el primer error, \"110,0\", este error se debe a que es una cadena de texto cuando deberia ser un numero entero, ademas de tener una coma en vez de un punto para representar la parte decimal del numero. Lo mismo sucede con el indice 11, \"100,00\", estos errores seran arreglados mas adelante.\n",
    "\n",
    "DataFrame \"Clientes_2021\"\n",
    "\n",
    "    En el indice 0 del Datframe \"Clientes_2021\" encontramos el primer error, \"JUan\" cuando deberia ser \"Juan\", es un error simple a la hora de escribir el nombre es dicho caso hipotetico, algo similar sucede con los indices 1, \"camila\" deberia tener mayuscula al iniciar; indice 2, \"DanIel\" el cual tiene una mayuscula entremedio del nombre aunque esto no representa problemas en este caso ya que \"Daniel\" no se repite pero en caso de que fuera asi nos generaria un problema; indice 8 tambien presenta un problema similar, \"LuiS\". Todos estos problemas seran solucionados mas adelante."
   ]
  },
  {
   "cell_type": "markdown",
   "metadata": {},
   "source": [
    "# Solucionando problemas del DataFrame (Item1)\n",
    "\n",
    "DataFrame \"Ventas_Clientes_2021\"\n",
    "    \n",
    "    Para este dataframe remplazaremos la coma por un punto para que este sea representado correctamente y tambien eliminaremos todas las comillas haciendo uso de \"replace\", por ultimo convertiremos todos estos numero en \"float\"\n",
    "\n",
    "DataFrame \"Clientes_2021\"\n",
    "\n",
    "    En este dataframe haremos uso de \"str.title\" con este quitaremnos todos lo errores ya que esta funcion nos pondra como mayuscula la primera letra de cada linea de texto y el resto de caracteres seran minusculas."
   ]
  },
  {
   "cell_type": "code",
   "execution_count": 83,
   "metadata": {},
   "outputs": [
    {
     "name": "stdout",
     "output_type": "stream",
     "text": [
      "0     100.0\n",
      "1     200.0\n",
      "2     110.0\n",
      "3      90.0\n",
      "4     150.0\n",
      "5      80.0\n",
      "6      70.0\n",
      "7     100.0\n",
      "8     110.0\n",
      "9      90.0\n",
      "10    100.0\n",
      "dtype: float64\n",
      "0       Juan\n",
      "1     Camila\n",
      "2     Daniel\n",
      "3       Luis\n",
      "4       Juan\n",
      "5        Ana\n",
      "6     Camila\n",
      "7        Ana\n",
      "8       Luis\n",
      "9        Ana\n",
      "10      Juan\n",
      "dtype: object\n"
     ]
    }
   ],
   "source": [
    "Ventas_Clientes_2021 = pd.Series([100.0,200.0,\"110,0\",90.0,150.0,80.0,70.0,100.0,110.0,90.0,\"100,00\"])\n",
    "Ventas_Clientes_2021 = Ventas_Clientes_2021.replace({',': '.', '\"': ''},regex=True).astype(float)\n",
    "print(Ventas_Clientes_2021)  \n",
    "\n",
    "Clientes_2021 = pd.Series ([\"JUan\",\"camila\",\"DanIel\",\"Luis\",\"Juan\",\"Ana\",\"Camila\",\"Ana\",\"LuiS\",\"Ana\",\"Juan\"])\n",
    "Clientes_2021 = Clientes_2021.str.title()\n",
    "print(Clientes_2021)"
   ]
  },
  {
   "cell_type": "markdown",
   "metadata": {},
   "source": [
    "# Item2\n",
    "\n",
    "Ahora crearemos un nuevo DataFrame (\"df4\") donde agruparemos a los clientes y sumaremos sus compras, este total lo dispodremos de forma desendente de forma que cuando lo mostraemos en pantalla podremos ver cuanto fue el total de las compras realizadas por el cliente organizado jerarquicamente segun dicho total.\n",
    "\n",
    "Tambien como extra agregue una variable alojada en \"mejor_cliente\" y \"peor_cliente\" que encontran el nombre del cliente que mas compras realizo y al que menos compras realizo durante el 2021 a traves de la funcion \"idxmax\" e \"idxmin\", por otro lado la variable \"compras\" define la cantidad de compras que hicieron los clientes durante 2021 de una forma similar haciendo uso de \"max\" y \"min\".\n",
    "\n",
    "Por ultimo se crearon la variable \"maximo\" que nos entregan el monto de maximo de la suma de todas las compras y la variable \"minimo\" que nos mostraria el contrario.\n",
    "\n",
    "Al final mostraremos los resultados en pantalla para una mejor diccion."
   ]
  },
  {
   "cell_type": "code",
   "execution_count": 104,
   "metadata": {},
   "outputs": [
    {
     "name": "stdout",
     "output_type": "stream",
     "text": [
      "          Ventas\n",
      "Clientes        \n",
      "Juan       350.0\n",
      "Ana        270.0\n",
      "Camila     270.0\n",
      "Luis       200.0\n",
      "Daniel     110.0\n",
      "El cliente que realizó más compras fue Juan compro 350.0 $ divido en 3 compras. Mientras que Daniel compro 110.0 $ realizado en 1 compra\n",
      "la diferencia de ventas entre Juan y Daniel es de  240.0 $\n"
     ]
    }
   ],
   "source": [
    "Ventas_Clientes_2021 = pd.Series([100.0,200.0,\"110,0\",90.0,150.0,80.0,70.0,100.0,110.0,90.0,\"100,00\"])\n",
    "Ventas_Clientes_2021 = Ventas_Clientes_2021.replace({',': '.', '\"': ''},regex=True).astype(float) \n",
    "Clientes_2021 = pd.Series ([\"JUan\",\"camila\",\"DanIel\",\"Luis\",\"Juan\",\"Ana\",\"Camila\",\"Ana\",\"LuiS\",\"Ana\",\"Juan\"])\n",
    "Clientes_2021 = Clientes_2021.str.title()\n",
    "df1 = pd.DataFrame(Ventas_Clientes_2021, columns= [\"Ventas\"])\n",
    "df2 = pd.DataFrame(Clientes_2021, columns= [\"Clientes\"])\n",
    "df3 = pd.concat([df2,df1], axis=1)\n",
    "\n",
    "df4 = df3.groupby(\"Clientes\").sum()\n",
    "df4 = df4.sort_values(by=\"Ventas\", ascending = 0)\n",
    "print(df4)\n",
    "\n",
    "mejor_cliente = df4[\"Ventas\"].idxmax()\n",
    "peor_cliente = df4[\"Ventas\"].idxmin()\n",
    "\n",
    "compras = df3[\"Clientes\"].value_counts()\n",
    "max_compras = compras.max()\n",
    "min_compras = compras.min()\n",
    "\n",
    "maximo = df4[\"Ventas\"].max()\n",
    "minimo = df4[\"Ventas\"].min()\n",
    "\n",
    "print(\"El cliente que realizó más compras fue\", mejor_cliente, \"compro\", maximo, \"$ divido en\", max_compras, \"compras. Mientras que\", peor_cliente, \"compro\", minimo,\"$ realizado en\", min_compras,\"compra\")\n",
    "print(\"la diferencia de ventas entre\", mejor_cliente, \"y\", peor_cliente, \"es de \", maximo - minimo, \"$\")\n"
   ]
  },
  {
   "cell_type": "markdown",
   "metadata": {},
   "source": [
    "# Item3\n",
    "\n",
    "Ahora crearemos un nuevo DataFrame(df5), en este buscamos mostrar la diferencia entre el promedio de las compras realizado durante 2021 con respecto a la ultima compra realizada por el cliente en ese mismo año, Tambien encontraremos al cliente con la compra menor con respecto a su promedio a traves de las variables \"down_cliente\" y \"down_media\" haciendo uso de \"idxmin\" y \"min\" respectivamente."
   ]
  },
  {
   "cell_type": "code",
   "execution_count": 108,
   "metadata": {},
   "outputs": [
    {
     "name": "stdout",
     "output_type": "stream",
     "text": [
      "             Ventas\n",
      "Clientes           \n",
      "Camila    65.000000\n",
      "Juan      16.666667\n",
      "Ana        0.000000\n",
      "Daniel     0.000000\n",
      "Luis     -10.000000\n",
      "El cliente con la ultima compra menor a su promedio es Luis con -10.0 $ de diferencia con su promedio de compras durante el 2021\n"
     ]
    }
   ],
   "source": [
    "df5 = (df3.groupby(\"Clientes\").mean() - df3.groupby(\"Clientes\").last()).sort_values(by=\"Ventas\", ascending = 0)\n",
    "print(df5)\n",
    "\n",
    "down_cliente = df5[\"Ventas\"].idxmin()\n",
    "down_media= df5[\"Ventas\"].min()\n",
    "\n",
    "print(\"El cliente con la ultima compra menor a su promedio es\", down_cliente, \"con\", down_media, \"$ de diferencia con su promedio de compras durante el 2021\")"
   ]
  },
  {
   "cell_type": "markdown",
   "metadata": {},
   "source": [
    "# Codigo Completo"
   ]
  },
  {
   "cell_type": "code",
   "execution_count": 114,
   "metadata": {},
   "outputs": [
    {
     "name": "stdout",
     "output_type": "stream",
     "text": [
      "Ventas del año 2021\n",
      "          Ventas\n",
      "Clientes        \n",
      "Juan       350.0\n",
      "Ana        270.0\n",
      "Camila     270.0\n",
      "Luis       200.0\n",
      "Daniel     110.0\n",
      "El cliente que realizó más compras fue Juan compro 350.0 $ divido en 3 compras. Mientras que Daniel compro 110.0 $ realizado en 1 compra\n",
      "la diferencia de ventas entre Juan y Daniel es de  240.0 $\n",
      "\n",
      "Diferencia entre el promedio de compras durante el año 2021 con respecto a la ultima compra del mismo año\n",
      "             Ventas\n",
      "Clientes           \n",
      "Camila    65.000000\n",
      "Juan      16.666667\n",
      "Ana        0.000000\n",
      "Daniel     0.000000\n",
      "Luis     -10.000000\n",
      "El cliente con la ultima compra menor a su promedio es Luis con -10.0 $ de diferencia con su promedio de compras durante el 2021\n"
     ]
    }
   ],
   "source": [
    "Ventas_Clientes_2021 = pd.Series([100.0,200.0,\"110,0\",90.0,150.0,80.0,70.0,100.0,110.0,90.0,\"100,00\"])\n",
    "Ventas_Clientes_2021 = Ventas_Clientes_2021.replace({',': '.', '\"': ''},regex=True).astype(float) \n",
    "Clientes_2021 = pd.Series ([\"JUan\",\"camila\",\"DanIel\",\"Luis\",\"Juan\",\"Ana\",\"Camila\",\"Ana\",\"LuiS\",\"Ana\",\"Juan\"])\n",
    "Clientes_2021 = Clientes_2021.str.title()\n",
    "df1 = pd.DataFrame(Ventas_Clientes_2021, columns= [\"Ventas\"])\n",
    "df2 = pd.DataFrame(Clientes_2021, columns= [\"Clientes\"])\n",
    "df3 = pd.concat([df2,df1], axis=1)\n",
    "\n",
    "print(\"Ventas del año 2021\")\n",
    "\n",
    "df4 = df3.groupby(\"Clientes\").sum()\n",
    "df4 = df4.sort_values(by=\"Ventas\", ascending = 0)\n",
    "print(df4)\n",
    "\n",
    "mejor_cliente = df4[\"Ventas\"].idxmax()\n",
    "peor_cliente = df4[\"Ventas\"].idxmin()\n",
    "\n",
    "compras = df3[\"Clientes\"].value_counts()\n",
    "max_compras = compras.max()\n",
    "min_compras = compras.min()\n",
    "\n",
    "maximo = df4[\"Ventas\"].max()\n",
    "minimo = df4[\"Ventas\"].min()\n",
    "\n",
    "print(\"El cliente que realizó más compras fue\", mejor_cliente, \"compro\", maximo, \"$ divido en\", max_compras, \"compras. Mientras que\", peor_cliente, \"compro\", minimo,\"$ realizado en\", min_compras,\"compra\")\n",
    "print(\"la diferencia de ventas entre\", mejor_cliente, \"y\", peor_cliente, \"es de \", maximo - minimo, \"$\")\n",
    "print(\"\")\n",
    "\n",
    "print(\"Diferencia entre el promedio de compras durante el año 2021 con respecto a la ultima compra del mismo año\")\n",
    "df5 = (df3.groupby(\"Clientes\").mean() - df3.groupby(\"Clientes\").last()).sort_values(by=\"Ventas\", ascending = 0)\n",
    "print(df5)\n",
    "\n",
    "down_cliente = df5[\"Ventas\"].idxmin()\n",
    "down_media= df5[\"Ventas\"].min()\n",
    "\n",
    "print(\"El cliente con la ultima compra menor a su promedio es\", down_cliente, \"con\", down_media, \"$ de diferencia con su promedio de compras durante el 2021\")\n"
   ]
  }
 ],
 "metadata": {
  "kernelspec": {
   "display_name": "base",
   "language": "python",
   "name": "python3"
  },
  "language_info": {
   "codemirror_mode": {
    "name": "ipython",
    "version": 3
   },
   "file_extension": ".py",
   "mimetype": "text/x-python",
   "name": "python",
   "nbconvert_exporter": "python",
   "pygments_lexer": "ipython3",
   "version": "3.10.9"
  },
  "orig_nbformat": 4
 },
 "nbformat": 4,
 "nbformat_minor": 2
}
